{
  "nbformat": 4,
  "nbformat_minor": 0,
  "metadata": {
    "colab": {
      "provenance": [],
      "authorship_tag": "ABX9TyPc6EICLLKDV8rplQse35QG",
      "include_colab_link": true
    },
    "kernelspec": {
      "name": "python3",
      "display_name": "Python 3"
    },
    "language_info": {
      "name": "python"
    }
  },
  "cells": [
    {
      "cell_type": "markdown",
      "metadata": {
        "id": "view-in-github",
        "colab_type": "text"
      },
      "source": [
        "<a href=\"https://colab.research.google.com/github/Daeyoung428/Learning_Python/blob/Master/4th_BackTesting.ipynb\" target=\"_parent\"><img src=\"https://colab.research.google.com/assets/colab-badge.svg\" alt=\"Open In Colab\"/></a>"
      ]
    },
    {
      "cell_type": "code",
      "execution_count": 1,
      "metadata": {
        "colab": {
          "base_uri": "https://localhost:8080/"
        },
        "collapsed": true,
        "id": "xtzpvf8nx5Gi",
        "outputId": "97c474d1-a893-4035-da49-6247807a0a72"
      },
      "outputs": [
        {
          "output_type": "stream",
          "name": "stdout",
          "text": [
            "Requirement already satisfied: yfinance in /usr/local/lib/python3.10/dist-packages (0.2.40)\n",
            "Requirement already satisfied: pandas-datareader in /usr/local/lib/python3.10/dist-packages (0.10.0)\n",
            "Collecting finance-datareader\n",
            "  Downloading finance_datareader-0.9.90-py3-none-any.whl (46 kB)\n",
            "\u001b[2K     \u001b[90m━━━━━━━━━━━━━━━━━━━━━━━━━━━━━━━━━━━━━━━━\u001b[0m \u001b[32m46.6/46.6 kB\u001b[0m \u001b[31m1.5 MB/s\u001b[0m eta \u001b[36m0:00:00\u001b[0m\n",
            "\u001b[?25hRequirement already satisfied: pandas>=1.3.0 in /usr/local/lib/python3.10/dist-packages (from yfinance) (2.0.3)\n",
            "Requirement already satisfied: numpy>=1.16.5 in /usr/local/lib/python3.10/dist-packages (from yfinance) (1.25.2)\n",
            "Requirement already satisfied: requests>=2.31 in /usr/local/lib/python3.10/dist-packages (from yfinance) (2.31.0)\n",
            "Requirement already satisfied: multitasking>=0.0.7 in /usr/local/lib/python3.10/dist-packages (from yfinance) (0.0.11)\n",
            "Requirement already satisfied: lxml>=4.9.1 in /usr/local/lib/python3.10/dist-packages (from yfinance) (4.9.4)\n",
            "Requirement already satisfied: platformdirs>=2.0.0 in /usr/local/lib/python3.10/dist-packages (from yfinance) (4.2.2)\n",
            "Requirement already satisfied: pytz>=2022.5 in /usr/local/lib/python3.10/dist-packages (from yfinance) (2023.4)\n",
            "Requirement already satisfied: frozendict>=2.3.4 in /usr/local/lib/python3.10/dist-packages (from yfinance) (2.4.4)\n",
            "Requirement already satisfied: peewee>=3.16.2 in /usr/local/lib/python3.10/dist-packages (from yfinance) (3.17.5)\n",
            "Requirement already satisfied: beautifulsoup4>=4.11.1 in /usr/local/lib/python3.10/dist-packages (from yfinance) (4.12.3)\n",
            "Requirement already satisfied: html5lib>=1.1 in /usr/local/lib/python3.10/dist-packages (from yfinance) (1.1)\n",
            "Collecting requests-file (from finance-datareader)\n",
            "  Downloading requests_file-2.1.0-py2.py3-none-any.whl (4.2 kB)\n",
            "Requirement already satisfied: tqdm in /usr/local/lib/python3.10/dist-packages (from finance-datareader) (4.66.4)\n",
            "Requirement already satisfied: soupsieve>1.2 in /usr/local/lib/python3.10/dist-packages (from beautifulsoup4>=4.11.1->yfinance) (2.5)\n",
            "Requirement already satisfied: six>=1.9 in /usr/local/lib/python3.10/dist-packages (from html5lib>=1.1->yfinance) (1.16.0)\n",
            "Requirement already satisfied: webencodings in /usr/local/lib/python3.10/dist-packages (from html5lib>=1.1->yfinance) (0.5.1)\n",
            "Requirement already satisfied: python-dateutil>=2.8.2 in /usr/local/lib/python3.10/dist-packages (from pandas>=1.3.0->yfinance) (2.8.2)\n",
            "Requirement already satisfied: tzdata>=2022.1 in /usr/local/lib/python3.10/dist-packages (from pandas>=1.3.0->yfinance) (2024.1)\n",
            "Requirement already satisfied: charset-normalizer<4,>=2 in /usr/local/lib/python3.10/dist-packages (from requests>=2.31->yfinance) (3.3.2)\n",
            "Requirement already satisfied: idna<4,>=2.5 in /usr/local/lib/python3.10/dist-packages (from requests>=2.31->yfinance) (3.7)\n",
            "Requirement already satisfied: urllib3<3,>=1.21.1 in /usr/local/lib/python3.10/dist-packages (from requests>=2.31->yfinance) (2.0.7)\n",
            "Requirement already satisfied: certifi>=2017.4.17 in /usr/local/lib/python3.10/dist-packages (from requests>=2.31->yfinance) (2024.2.2)\n",
            "Installing collected packages: requests-file, finance-datareader\n",
            "Successfully installed finance-datareader-0.9.90 requests-file-2.1.0\n"
          ]
        }
      ],
      "source": [
        "!pip install yfinance pandas-datareader finance-datareader"
      ]
    },
    {
      "cell_type": "code",
      "source": [
        "# from pandas_datareader import data as pdr\n",
        "\n",
        "import yfinance as yf\n",
        "yf.pdr_override()\n",
        "\n",
        "import numpy as np\n",
        "import pandas as pd\n",
        "\n",
        "import FinanceDataReader as fdr\n"
      ],
      "metadata": {
        "id": "Clh1Byswy0jo"
      },
      "execution_count": 5,
      "outputs": []
    },
    {
      "cell_type": "code",
      "source": [
        "def get_Return(code, n):\n",
        "  df = fdr.DataReader(code, '2018', '2023')\n",
        "\n",
        "  df = df[['Close']].copy()\n",
        "\n",
        "  df['MA'] = df.rolling(n).mean().shift(1)\n",
        "\n",
        "  df['Action'] = np.where(df['Close'] > df['MA'], 'Buy', 'Sell')\n",
        "\n",
        "  df.iloc[-1, -1] = \"Sell\"\n",
        "\n",
        "  cond_Buy = (df['Action'] == \"Buy\") & (df[\"Action\"].shift(1) == 'Sell')\n",
        "  cond_Sell = (df['Action'] == \"Sell\") & (df[\"Action\"].shift(1) == 'Buy')\n",
        "\n",
        "  df_Buy = df[cond_Buy].reset_index()\n",
        "  df_Buy.columns = ['날짜', '종가-Buy', '이평값', '액션']\n",
        "  df_Sell = df[cond_Sell].reset_index()\n",
        "  df_Sell.columns = ['날짜', '종가-Sell', '이평값', '액션']\n",
        "\n",
        "  df_result = pd.concat([df_Buy, df_Sell], axis = 1)\n",
        "  df_result['수익률'] = df_result['종가-Sell'] / df_result['종가-Buy']\n",
        "\n",
        "  return df_result[['수익률']].cumprod().iloc[-1, -1] - 1"
      ],
      "metadata": {
        "id": "RQLP5S0h0b_o"
      },
      "execution_count": 62,
      "outputs": []
    },
    {
      "cell_type": "code",
      "source": [
        "def get_Return_SL(code, short, long):\n",
        "  df = fdr.DataReader(code, '2018', '2023')\n",
        "\n",
        "  df = df[['Close']].copy()\n",
        "\n",
        "  df['MA_1'] = df['Close'].rolling(short).mean().shift(1)\n",
        "  df['MA_2'] = df['Close'].rolling(long).mean().shift(1)\n",
        "\n",
        "  df['Action'] = np.where(df['MA_1'] > df['MA_2'], 'Buy', 'Sell')\n",
        "\n",
        "  df.iloc[-1, -1] = \"Sell\"\n",
        "\n",
        "  cond_Buy = (df['Action'] == \"Buy\") & (df[\"Action\"].shift(1) == 'Sell')\n",
        "  cond_Sell = (df['Action'] == \"Sell\") & (df[\"Action\"].shift(1) == 'Buy')\n",
        "\n",
        "  df_Buy = df[cond_Buy].reset_index()\n",
        "  df_Buy.columns = ['날짜', '종가-Buy', '이평값1', '이평값2','액션']\n",
        "  df_Sell = df[cond_Sell].reset_index()\n",
        "  df_Sell.columns = ['날짜', '종가-Sell', '이평값1', '이평값2', '액션']\n",
        "\n",
        "  df_result = pd.concat([df_Buy, df_Sell], axis = 1)\n",
        "  df_result['수익률'] = df_result['종가-Sell'] / df_result['종가-Buy']\n",
        "\n",
        "  df_final = (df_result[['수익률']].cumprod().tail(1) - 1)*100\n",
        "  df_final['단기'] = short\n",
        "  df_final['장기'] = long\n",
        "\n",
        "  return df_final"
      ],
      "metadata": {
        "id": "TTUwhNqa-BNv"
      },
      "execution_count": 90,
      "outputs": []
    },
    {
      "cell_type": "code",
      "source": [
        "get_Return_SL('005930', 5, 120)"
      ],
      "metadata": {
        "colab": {
          "base_uri": "https://localhost:8080/",
          "height": 80
        },
        "id": "QozLxCzd17Xf",
        "outputId": "06eb4da2-ce66-4d65-bd6e-79667e1366f9"
      },
      "execution_count": 91,
      "outputs": [
        {
          "output_type": "execute_result",
          "data": {
            "text/plain": [
              "         수익률  단기   장기\n",
              "7  12.691603   5  120"
            ],
            "text/html": [
              "\n",
              "  <div id=\"df-79a0e510-2c53-4251-a6ab-b7bc869902cf\" class=\"colab-df-container\">\n",
              "    <div>\n",
              "<style scoped>\n",
              "    .dataframe tbody tr th:only-of-type {\n",
              "        vertical-align: middle;\n",
              "    }\n",
              "\n",
              "    .dataframe tbody tr th {\n",
              "        vertical-align: top;\n",
              "    }\n",
              "\n",
              "    .dataframe thead th {\n",
              "        text-align: right;\n",
              "    }\n",
              "</style>\n",
              "<table border=\"1\" class=\"dataframe\">\n",
              "  <thead>\n",
              "    <tr style=\"text-align: right;\">\n",
              "      <th></th>\n",
              "      <th>수익률</th>\n",
              "      <th>단기</th>\n",
              "      <th>장기</th>\n",
              "    </tr>\n",
              "  </thead>\n",
              "  <tbody>\n",
              "    <tr>\n",
              "      <th>7</th>\n",
              "      <td>12.691603</td>\n",
              "      <td>5</td>\n",
              "      <td>120</td>\n",
              "    </tr>\n",
              "  </tbody>\n",
              "</table>\n",
              "</div>\n",
              "    <div class=\"colab-df-buttons\">\n",
              "\n",
              "  <div class=\"colab-df-container\">\n",
              "    <button class=\"colab-df-convert\" onclick=\"convertToInteractive('df-79a0e510-2c53-4251-a6ab-b7bc869902cf')\"\n",
              "            title=\"Convert this dataframe to an interactive table.\"\n",
              "            style=\"display:none;\">\n",
              "\n",
              "  <svg xmlns=\"http://www.w3.org/2000/svg\" height=\"24px\" viewBox=\"0 -960 960 960\">\n",
              "    <path d=\"M120-120v-720h720v720H120Zm60-500h600v-160H180v160Zm220 220h160v-160H400v160Zm0 220h160v-160H400v160ZM180-400h160v-160H180v160Zm440 0h160v-160H620v160ZM180-180h160v-160H180v160Zm440 0h160v-160H620v160Z\"/>\n",
              "  </svg>\n",
              "    </button>\n",
              "\n",
              "  <style>\n",
              "    .colab-df-container {\n",
              "      display:flex;\n",
              "      gap: 12px;\n",
              "    }\n",
              "\n",
              "    .colab-df-convert {\n",
              "      background-color: #E8F0FE;\n",
              "      border: none;\n",
              "      border-radius: 50%;\n",
              "      cursor: pointer;\n",
              "      display: none;\n",
              "      fill: #1967D2;\n",
              "      height: 32px;\n",
              "      padding: 0 0 0 0;\n",
              "      width: 32px;\n",
              "    }\n",
              "\n",
              "    .colab-df-convert:hover {\n",
              "      background-color: #E2EBFA;\n",
              "      box-shadow: 0px 1px 2px rgba(60, 64, 67, 0.3), 0px 1px 3px 1px rgba(60, 64, 67, 0.15);\n",
              "      fill: #174EA6;\n",
              "    }\n",
              "\n",
              "    .colab-df-buttons div {\n",
              "      margin-bottom: 4px;\n",
              "    }\n",
              "\n",
              "    [theme=dark] .colab-df-convert {\n",
              "      background-color: #3B4455;\n",
              "      fill: #D2E3FC;\n",
              "    }\n",
              "\n",
              "    [theme=dark] .colab-df-convert:hover {\n",
              "      background-color: #434B5C;\n",
              "      box-shadow: 0px 1px 3px 1px rgba(0, 0, 0, 0.15);\n",
              "      filter: drop-shadow(0px 1px 2px rgba(0, 0, 0, 0.3));\n",
              "      fill: #FFFFFF;\n",
              "    }\n",
              "  </style>\n",
              "\n",
              "    <script>\n",
              "      const buttonEl =\n",
              "        document.querySelector('#df-79a0e510-2c53-4251-a6ab-b7bc869902cf button.colab-df-convert');\n",
              "      buttonEl.style.display =\n",
              "        google.colab.kernel.accessAllowed ? 'block' : 'none';\n",
              "\n",
              "      async function convertToInteractive(key) {\n",
              "        const element = document.querySelector('#df-79a0e510-2c53-4251-a6ab-b7bc869902cf');\n",
              "        const dataTable =\n",
              "          await google.colab.kernel.invokeFunction('convertToInteractive',\n",
              "                                                    [key], {});\n",
              "        if (!dataTable) return;\n",
              "\n",
              "        const docLinkHtml = 'Like what you see? Visit the ' +\n",
              "          '<a target=\"_blank\" href=https://colab.research.google.com/notebooks/data_table.ipynb>data table notebook</a>'\n",
              "          + ' to learn more about interactive tables.';\n",
              "        element.innerHTML = '';\n",
              "        dataTable['output_type'] = 'display_data';\n",
              "        await google.colab.output.renderOutput(dataTable, element);\n",
              "        const docLink = document.createElement('div');\n",
              "        docLink.innerHTML = docLinkHtml;\n",
              "        element.appendChild(docLink);\n",
              "      }\n",
              "    </script>\n",
              "  </div>\n",
              "\n",
              "    </div>\n",
              "  </div>\n"
            ],
            "application/vnd.google.colaboratory.intrinsic+json": {
              "type": "dataframe",
              "summary": "{\n  \"name\": \"get_Return_SL('005930', 5, 120)\",\n  \"rows\": 1,\n  \"fields\": [\n    {\n      \"column\": \"\\uc218\\uc775\\ub960\",\n      \"properties\": {\n        \"dtype\": \"number\",\n        \"std\": null,\n        \"min\": 12.691603061897494,\n        \"max\": 12.691603061897494,\n        \"num_unique_values\": 1,\n        \"samples\": [\n          12.691603061897494\n        ],\n        \"semantic_type\": \"\",\n        \"description\": \"\"\n      }\n    },\n    {\n      \"column\": \"\\ub2e8\\uae30\",\n      \"properties\": {\n        \"dtype\": \"number\",\n        \"std\": null,\n        \"min\": 5,\n        \"max\": 5,\n        \"num_unique_values\": 1,\n        \"samples\": [\n          5\n        ],\n        \"semantic_type\": \"\",\n        \"description\": \"\"\n      }\n    },\n    {\n      \"column\": \"\\uc7a5\\uae30\",\n      \"properties\": {\n        \"dtype\": \"number\",\n        \"std\": null,\n        \"min\": 120,\n        \"max\": 120,\n        \"num_unique_values\": 1,\n        \"samples\": [\n          120\n        ],\n        \"semantic_type\": \"\",\n        \"description\": \"\"\n      }\n    }\n  ]\n}"
            }
          },
          "metadata": {},
          "execution_count": 91
        }
      ]
    }
  ]
}